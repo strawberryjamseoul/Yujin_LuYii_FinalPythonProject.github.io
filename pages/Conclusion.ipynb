{
 "cells": [
  {
   "cell_type": "markdown",
   "id": "0cb1806a-520f-4d2f-9c9d-501219c86a3b",
   "metadata": {},
   "source": [
    "### Conclusion\n",
    "\n",
    "This analysis highlights the role of tree canopy coverage in influencing public health outcomes across different socio-economic groups in Philadelphia.\n",
    "\n",
    "#### **Group 0 (Label-0 in Clustering)**:\n",
    "- **Socio-Economic Characteristics**: Represents a socio-economically vulnerable population with lower median household income, lower education levels, lower dependent population percentage, and a higher percentage of non-white residents.\n",
    "- **Findings**: Tree canopy coverage shows a negative correlation with:\n",
    "  - Lead exposure (`perc_5plus_aggregated`)\n",
    "  - Asthma rate (`casthma_crudeprev_aggregated`)\n",
    "  - Cancer rate (`cancer_crudeprev_aggregated`)\n",
    "  - Heat Vulnerability Index (`hvi_score_aggregated`)\n",
    "- **Implications**: These results suggest that increasing tree canopy in vulnerable areas could lead to substantial improvements in public health outcomes. The City of Philadelphia should prioritize aggressive tree-planting initiatives in these regions.\n",
    "\n",
    "#### **Group 1 (Label-1 in Clustering)**:\n",
    "- **Socio-Economic Characteristics**: Represents a less vulnerable population with higher median household income, higher education levels, medium dependent population percentage, and a lower percentage of non-white residents.\n",
    "- **Findings**:\n",
    "  - Negative correlation between tree canopy and lead exposure, as well as asthma rates, indicating a continued beneficial effect of tree canopy coverage on these outcomes.\n",
    "  - Weak positive correlations between tree canopy and both cancer rates (`cancer_crudeprev_aggregated`) and heat vulnerability index (`hvi_score_aggregated`), suggesting a more complex relationship in this group.\n",
    "- **Implications**: Tree canopy remains important in less vulnerable areas, but its impact may be more limited for certain public health indicators like cancer rates and heat vulnerability.\n",
    "\n",
    "#### **Group 2 (Label-2 in Clustering)**:\n",
    "- **Exclusion**: This group was excluded from the analysis due to significant outliers identified in the box plots, which undermine the reliability of the results for this cluster.\n",
    "\n",
    "#### **Key Takeaways**:\n",
    "1. There is a distinct difference in the relationship between tree canopy coverage and public health outcomes across socio-economic groups.\n",
    "   - **Vulnerable Groups (Group 0)**:  strong negative correlations between tree canopy and indicators such as lead exposure, asthma prevalence, cancer rates, and the heat vulnerability index underscore the urgent need for targeted tree-planting initiatives in these areas to mitigate health inequities.\n",
    "   - **Less Vulnerable Groups (Group 1)**: while tree canopy remains beneficial, its impact is less pronounced, reflecting differing needs and priorities across socio-economic groups. This suggests that tree-planting efforts should be tailored to address the unique challenges faced by vulnerable communities, ensuring equitable improvements in health outcomes citywide.\n",
    "2. To address health inequities, the City of Philadelphia should prioritize expanding tree canopy coverage in vulnerable communities characterized by:\n",
    "   - Low median household income\n",
    "   - Low education levels\n",
    "   - Lower dependent population percentages\n",
    "   - Higher non-white population percentages\n",
    "   \n",
    "\n",
    "Targeting these areas can significantly enhance public health outcomes, reduce environmental disparities, and promote greater equity across the city."
   ]
  },
  {
   "cell_type": "markdown",
   "id": "9386b379-42f4-4d51-b1d3-4d7b7f655b46",
   "metadata": {},
   "source": [
    "The Health Equity Index reveals significant disparities in health outcomes across Philadelphia’s census tracts, with vulnerable communities disproportionately burdened by environmental and socioeconomic inequities. Strong negative correlations between tree canopy coverage and health challenges such as asthma prevalence, lead exposure, and heat vulnerability emphasize the critical role of urban greening initiatives in improving public health. These findings highlight the urgent need to prioritize vulnerable neighborhoods—characterized by low income, low education levels, and higher percentages of non-white residents—in tree-planting and public health interventions.\n",
    "\n",
    "While less vulnerable communities also benefit from environmental improvements, the analysis underscores the differing needs and priorities across socio-economic groups. Tailoring initiatives to address these unique challenges can reduce environmental and health disparities, ultimately advancing Philadelphia’s goals for environmental justice and equity. By using the HEI as a guide, city leaders can make data-driven decisions that foster healthier, more resilient neighborhoods for all residents.\n"
   ]
  },
  {
   "cell_type": "code",
   "execution_count": null,
   "id": "c1b55d1a-a506-470f-9f59-9acf8522520c",
   "metadata": {},
   "outputs": [],
   "source": []
  }
 ],
 "metadata": {
  "kernelspec": {
   "display_name": "Python 3 (ipykernel)",
   "language": "python",
   "name": "python3"
  },
  "language_info": {
   "codemirror_mode": {
    "name": "ipython",
    "version": 3
   },
   "file_extension": ".py",
   "mimetype": "text/x-python",
   "name": "python",
   "nbconvert_exporter": "python",
   "pygments_lexer": "ipython3",
   "version": "3.10.12"
  }
 },
 "nbformat": 4,
 "nbformat_minor": 5
}
